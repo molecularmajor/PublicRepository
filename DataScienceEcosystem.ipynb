{
 "cells": [
  {
   "cell_type": "markdown",
   "id": "695abec4-1d85-419e-857e-b7521363e38d",
   "metadata": {},
   "source": [
    "# Data Science Tools and Ecosystem"
   ]
  },
  {
   "cell_type": "markdown",
   "id": "42f366e3-61f8-4aae-968e-1c2dc62ee239",
   "metadata": {},
   "source": [
    "## Author ##\n",
    "Juan Velasco"
   ]
  },
  {
   "cell_type": "markdown",
   "id": "29b205dc-09af-423e-980f-33b3180eafcd",
   "metadata": {},
   "source": [
    "In this notebook, Data Science Tools and Ecosystem are summarized."
   ]
  },
  {
   "cell_type": "markdown",
   "id": "d58a7d1f-a637-44f8-88d0-57c2f5502e9c",
   "metadata": {},
   "source": [
    "**Objectives:**\n",
    "- Languages of Data Science\n",
    "- Introduction to Jupyter Notebooks\n",
    "- Introductions to R and RStudio"
   ]
  },
  {
   "cell_type": "markdown",
   "id": "d5f3a238-e165-47ad-a32e-7e3f00f69108",
   "metadata": {},
   "source": [
    "Some of the popular languages that Data Scientists use are:\n",
    "\n",
    "1. Python\n",
    "2. R\n",
    "3. C++\n",
    "4. SQL\n",
    "5. Java\n",
    "6. JS\n",
    "7. Scala\n",
    "8. julia"
   ]
  },
  {
   "cell_type": "markdown",
   "id": "1d2749fc-f8d0-4e01-a5b2-5cfc4f2d1c3b",
   "metadata": {},
   "source": [
    "Some of the commonly used libraries used by Data Scientists include:\n",
    "\n",
    "1. Pandas\n",
    "2. Numpy\n",
    "3. Scikit-learn\n",
    "4. PyTorch"
   ]
  },
  {
   "cell_type": "markdown",
   "id": "075c6076-2ec4-47eb-9ec9-1dbc7e2696c4",
   "metadata": {},
   "source": [
    "| Data Science Tools |\n",
    "|------------------|\n",
    "|Jupyter Notebooks|\n",
    "|RStudio|\n",
    "|Git|\n",
    "|GitHub|\n"
   ]
  },
  {
   "cell_type": "markdown",
   "id": "937c62c5-f228-4151-82f9-1cb938fb1379",
   "metadata": {},
   "source": [
    "### Below are a few examples of evaluating arithmetic expressions in Python"
   ]
  },
  {
   "cell_type": "code",
   "execution_count": 1,
   "id": "cd17df74-9b85-42cd-9040-cfcbee848cef",
   "metadata": {},
   "outputs": [
    {
     "data": {
      "text/plain": [
       "17"
      ]
     },
     "execution_count": 1,
     "metadata": {},
     "output_type": "execute_result"
    }
   ],
   "source": [
    "# This a simple arithmetic expression to mutiply then add integers.\n",
    "(3*4)+5"
   ]
  },
  {
   "cell_type": "code",
   "execution_count": 2,
   "id": "308dd834-1139-43d4-b555-940bbf2b215e",
   "metadata": {},
   "outputs": [
    {
     "data": {
      "text/plain": [
       "3.3333333333333335"
      ]
     },
     "execution_count": 2,
     "metadata": {},
     "output_type": "execute_result"
    }
   ],
   "source": [
    "#  This will convert 200 minutes to hours by diving by 60\n",
    "200/60"
   ]
  },
  {
   "cell_type": "markdown",
   "id": "70d5bf96-8e9c-48d5-9d5a-f99d0b11cb1f",
   "metadata": {},
   "source": []
  }
 ],
 "metadata": {
  "kernelspec": {
   "display_name": "Python 3 (ipykernel)",
   "language": "python",
   "name": "python3"
  },
  "language_info": {
   "codemirror_mode": {
    "name": "ipython",
    "version": 3
   },
   "file_extension": ".py",
   "mimetype": "text/x-python",
   "name": "python",
   "nbconvert_exporter": "python",
   "pygments_lexer": "ipython3",
   "version": "3.12.9"
  }
 },
 "nbformat": 4,
 "nbformat_minor": 5
}
